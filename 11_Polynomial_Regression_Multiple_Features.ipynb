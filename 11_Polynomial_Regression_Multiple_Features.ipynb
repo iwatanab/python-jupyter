{
 "cells": [
  {
   "cell_type": "markdown",
   "metadata": {},
   "source": [
    "# Polynomial Regression with Multiple Features"
   ]
  },
  {
   "cell_type": "markdown",
   "metadata": {},
   "source": [
    "**Linear regression** models are made up of linear combinations of inputs and weights:\n",
    "\n",
    "$h_\\theta = \\theta_0 + \\theta_1X_1 + \\theta_2X_2 + \\theta_3X_3 ... \\theta_nX_n$\n",
    "\n",
    "LaTeX generator: https://www.codecogs.com/latex/eqneditor.php\n",
    "\n",
    "\n",
    "**Polynomial regression** models inputs and weights as well, but allows for those weights to be raised to varying degrees:\n",
    "$h_\\theta = \\theta_0 + \\theta_1X_1 + \\theta_1X_1^2 + \\theta_2X_2 + \\theta_2X_2^2 + \\theta_2X_2^3+ \\theta_3X_3 ... \\theta_nX_n^p$\n",
    "\n",
    "Polynomial regression allows us to fit **nonlinear trends**.\n",
    "\n",
    "\n",
    "\n",
    "Let's grab some data and try both types of regression. For the sake of visualization, we are using only one input feature, X.\n"
   ]
  },
  {
   "cell_type": "markdown",
   "metadata": {},
   "source": [
    "### Illustrating the limitations of simple linear regression"
   ]
  },
  {
   "cell_type": "code",
   "execution_count": 46,
   "metadata": {},
   "outputs": [],
   "source": [
    "from sklearn.datasets import make_regression\n",
    "X, y = make_regression(n_samples = 600, n_features = 1, noise = 8, bias = 2)\n",
    "y2 = y**2"
   ]
  },
  {
   "cell_type": "markdown",
   "metadata": {},
   "source": [
    "Make our training and testing data sets:"
   ]
  },
  {
   "cell_type": "code",
   "execution_count": 50,
   "metadata": {},
   "outputs": [],
   "source": [
    "import numpy as np\n",
    "import random\n",
    "numTrain = 400\n",
    "my_randoms = random.sample(range(599), numTrain)\n",
    "X_train = X[my_randoms]\n",
    "y2_train = y2[my_randoms]\n",
    "\n",
    "X_test = [x for i,x in enumerate(X) if i!=0]\n",
    "y2_test = [x for i,x in enumerate(y2) if i!=0]\n"
   ]
  },
  {
   "cell_type": "code",
   "execution_count": 51,
   "metadata": {},
   "outputs": [
    {
     "data": {
      "text/plain": [
       "[2, 3]"
      ]
     },
     "execution_count": 51,
     "metadata": {},
     "output_type": "execute_result"
    }
   ],
   "source": [
    "a = [1,2,3]\n",
    "[x for i,x in enumerate(a) if i!=0]"
   ]
  },
  {
   "cell_type": "markdown",
   "metadata": {},
   "source": [
    "Then we can plot the data below:"
   ]
  },
  {
   "cell_type": "code",
   "execution_count": 52,
   "metadata": {},
   "outputs": [
    {
     "data": {
      "image/png": "[encoded data removed]",
      "text/plain": [
       "<Figure size 432x288 with 1 Axes>"
      ]
     },
     "metadata": {
      "needs_background": "light"
     },
     "output_type": "display_data"
    }
   ],
   "source": [
    "import matplotlib.pyplot as plt\n",
    "plt.scatter(X_train, y2_train)\n",
    "plt.xlabel('X')\n",
    "plt.ylabel('y2')\n",
    "plt.show()"
   ]
  },
  {
   "cell_type": "markdown",
   "metadata": {},
   "source": [
    "We can see from the plot above, that a simple linear regression won't fit very well to the parabola-shaped scatter pattern.\n",
    "\n",
    "\n",
    "Let's try fit a straight line to it anyway:"
   ]
  },
  {
   "cell_type": "code",
   "execution_count": 65,
   "metadata": {},
   "outputs": [
    {
     "name": "stdout",
     "output_type": "stream",
     "text": [
      "Intercept:  6936.563135972192\n",
      "Coefficient:  -44.96087330490145\n"
     ]
    }
   ],
   "source": [
    "from sklearn import linear_model\n",
    "model = LinearRegression()\n",
    "model.fit(X_train,y2_train)\n",
    "\n",
    "print('Intercept: ', model.intercept_)\n",
    "print('Coefficient: ', model.coef_[0])"
   ]
  },
  {
   "cell_type": "markdown",
   "metadata": {},
   "source": [
    "Our resultant model is:\n",
    "\n",
    "### $h_\\theta = 6936.56 -44.96_1X_1$\n",
    "\n",
    "Let's: \n",
    "\n",
    "1. Generate predictions from the testing set\n",
    "2. Plot the predictions\n",
    "3. Get the R2\n"
   ]
  },
  {
   "cell_type": "code",
   "execution_count": 62,
   "metadata": {},
   "outputs": [
    {
     "data": {
      "image/png": "[encoded data removed]",
      "text/plain": [
       "<Figure size 432x288 with 1 Axes>"
      ]
     },
     "metadata": {
      "needs_background": "light"
     },
     "output_type": "display_data"
    }
   ],
   "source": [
    "# Generate predictions using our model\n",
    "predictions = model.predict(X_test)\n",
    "plt.scatter(X_test,y2_test)\n",
    "plt.plot(X_test, predictions, color='red')\n",
    "plt.show()"
   ]
  },
  {
   "cell_type": "code",
   "execution_count": 68,
   "metadata": {},
   "outputs": [
    {
     "data": {
      "text/plain": [
       "-0.0014233002467989309"
      ]
     },
     "execution_count": 68,
     "metadata": {},
     "output_type": "execute_result"
    }
   ],
   "source": [
    "# That does not look like a good fit, lets confirm this with the R2\n",
    "from sklearn import metrics as mt\n",
    "mt.r2_score(y2_test, predictions)"
   ]
  },
  {
   "cell_type": "markdown",
   "metadata": {},
   "source": [
    "### Overcoming limitations using polynomial regression"
   ]
  },
  {
   "cell_type": "code",
   "execution_count": 71,
   "metadata": {},
   "outputs": [],
   "source": [
    "from sklearn.preprocessing import PolynomialFeatures\n",
    "poly_features = PolynomialFeatures(degree = 3) # i.e. X + X^2 + X^3\n",
    "X_poly = poly_features.fit_transform(X_train)"
   ]
  },
  {
   "cell_type": "markdown",
   "metadata": {},
   "source": [
    "**X_poly** formats splits our input features into 3 features based on the :\n",
    "\n",
    "1. The original X value\n",
    "2. X^2\n",
    "3. X^3\n",
    "\n",
    "There is an added '1' value for every item to represent to act as the intercept weight/bias.\n",
    "\n",
    "This is simply the format that the **.fit()** method needs to create a prediction model."
   ]
  },
  {
   "cell_type": "code",
   "execution_count": 86,
   "metadata": {},
   "outputs": [
    {
     "name": "stdout",
     "output_type": "stream",
     "text": [
      "[[ 1.         -0.48770746  0.23785857 -0.1160054 ]\n",
      " [ 1.          2.25203721  5.07167158 11.4215931 ]\n",
      " [ 1.         -0.45688044  0.20873974 -0.0953691 ]\n",
      " ...\n",
      " [ 1.          0.26511651  0.07028676  0.01863418]\n",
      " [ 1.         -0.23821624  0.05674698 -0.01351805]\n",
      " [ 1.         -1.55622165  2.42182581 -3.76889774]]\n"
     ]
    }
   ],
   "source": [
    "print(X_poly)"
   ]
  },
  {
   "cell_type": "code",
   "execution_count": 84,
   "metadata": {},
   "outputs": [
    {
     "name": "stdout",
     "output_type": "stream",
     "text": [
      "[[-0.48770746]\n",
      " [ 2.25203721]\n",
      " [-0.45688044]]\n",
      "0.2378585665396516\n",
      "-0.11600539732629446\n"
     ]
    }
   ],
   "source": [
    "print(X_train[0:3])"
   ]
  },
  {
   "cell_type": "code",
   "execution_count": 87,
   "metadata": {},
   "outputs": [
    {
     "name": "stdout",
     "output_type": "stream",
     "text": [
      "0.2378585665396516\n",
      "-0.11600539732629446\n"
     ]
    }
   ],
   "source": [
    "print(-0.48770746 * -0.48770746 ) # X^2\n",
    "\n",
    "print(-0.48770746 * -0.48770746 * -0.48770746 ) #X^3"
   ]
  },
  {
   "cell_type": "markdown",
   "metadata": {},
   "source": [
    "Let's fit the regression model:"
   ]
  },
  {
   "cell_type": "code",
   "execution_count": 89,
   "metadata": {},
   "outputs": [],
   "source": [
    "poly_model = LinearRegression().fit(X_poly, y2_train)"
   ]
  },
  {
   "cell_type": "code",
   "execution_count": 91,
   "metadata": {},
   "outputs": [
    {
     "name": "stdout",
     "output_type": "stream",
     "text": [
      "Intercept:  223.4067787715012\n",
      "Coeficients:  [   0.          406.12573495 7439.18744984  -38.15769213]\n"
     ]
    }
   ],
   "source": [
    "print('Intercept: ', poly_model.intercept_)\n",
    "print('Coeficients: ', poly_model.coef_)"
   ]
  },
  {
   "cell_type": "markdown",
   "metadata": {},
   "source": [
    "Our resultant model is:\n",
    "\n",
    "\n",
    "### $h_\\theta = 223.41 + 406.13X_1 + 7439.19X_1^2 - 38.16X_1^3 $"
   ]
  },
  {
   "cell_type": "code",
   "execution_count": 95,
   "metadata": {},
   "outputs": [
    {
     "data": {
      "image/png": "[encoded data removed]",
      "text/plain": [
       "<Figure size 432x288 with 1 Axes>"
      ]
     },
     "metadata": {
      "needs_background": "light"
     },
     "output_type": "display_data"
    }
   ],
   "source": [
    "# Generate predictions using our model\n",
    "poly_predictions = poly_model.predict(poly_features.fit_transform(X_test))\n",
    "new_X, new_y = zip(*sorted(zip(X_test, poly_predictions))) # sort values for plotting\n",
    "plt.scatter(X_test,y2_test)\n",
    "plt.plot(new_X, new_y, color='red')\n",
    "plt.show()"
   ]
  },
  {
   "cell_type": "markdown",
   "metadata": {},
   "source": [
    "### Multiple Polynomial Regression"
   ]
  },
  {
   "cell_type": "markdown",
   "metadata": {},
   "source": [
    "While harder to visualize, the true power in polynomial regression lies in its application in multiple regression.\n",
    "\n",
    "The following example uses many features to predict the output:"
   ]
  },
  {
   "cell_type": "code",
   "execution_count": 113,
   "metadata": {},
   "outputs": [],
   "source": [
    "from sklearn.datasets import make_regression\n",
    "X, y = make_regression(n_samples = 600, n_features = 10, noise = 8, bias = 2)\n",
    "y2 = y**2"
   ]
  },
  {
   "cell_type": "code",
   "execution_count": 114,
   "metadata": {},
   "outputs": [
    {
     "data": {
      "text/plain": [
       "array([[ 0.55607372,  0.78376465,  0.73051059, ..., -0.73762937,\n",
       "         1.24893899,  0.56490285],\n",
       "       [ 0.80064903, -1.86263085, -0.88100173, ..., -2.41761918,\n",
       "        -0.6558456 ,  1.72657346],\n",
       "       [-0.80744852,  0.48188764,  0.48086237, ..., -1.40075517,\n",
       "         0.33651783,  2.94884365],\n",
       "       ...,\n",
       "       [ 0.78927808, -1.33359662, -2.14379488, ..., -0.03219093,\n",
       "         2.1099757 , -0.25097664],\n",
       "       [-0.1028731 , -0.37153368,  1.54137626, ..., -0.80111598,\n",
       "        -0.35469256, -0.97870545],\n",
       "       [-1.06603375, -1.17834085, -1.58275906, ..., -0.03351773,\n",
       "         1.25082517, -0.67739534]])"
      ]
     },
     "execution_count": 114,
     "metadata": {},
     "output_type": "execute_result"
    }
   ],
   "source": [
    "X"
   ]
  },
  {
   "cell_type": "code",
   "execution_count": null,
   "metadata": {},
   "outputs": [],
   "source": []
  }
 ],
 "metadata": {
  "kernelspec": {
   "display_name": "Python 3",
   "language": "python",
   "name": "python3"
  },
  "language_info": {
   "codemirror_mode": {
    "name": "ipython",
    "version": 3
   },
   "file_extension": ".py",
   "mimetype": "text/x-python",
   "name": "python",
   "nbconvert_exporter": "python",
   "pygments_lexer": "ipython3",
   "version": "3.7.0"
  }
 },
 "nbformat": 4,
 "nbformat_minor": 2
}
