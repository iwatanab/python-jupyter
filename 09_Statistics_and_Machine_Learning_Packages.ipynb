{
 "cells": [
  {
   "cell_type": "markdown",
   "metadata": {},
   "source": [
    "## What is the relationship among NumPy, SciPy, StatsModels, Scikit-learn, and TensorFlow and when should I use each one of them?"
   ]
  },
  {
   "cell_type": "markdown",
   "metadata": {},
   "source": [
    "ref. https://www.quora.com/What-is-the-relationship-among-NumPy-SciPy-Pandas-and-Scikit-learn-and-when-should-I-use-each-one-of-them\n",
    "\n",
    "- **Numpy**. Adds Python support for large, multi-dimensional arrays and matrices, along with a large library of high-level mathematical functions to operate on these arrays.\n",
    "- **SciPy** is a collection of mathematical algorithms and convenience functions built on the Numpy extension of Python. It adds significant power to the interactive Python session by providing the user with high-level commands and classes for manipulating and visualizing data.\n",
    "- **Statsmodels** scikit-learn’s typical applications are machine-learning and data-science; StatsModels are econometrics, generalized-linear-models, timeseries-analysis, and regression-models. These topic tags reflect the conventional wisdom that scikit-learn is for machine learning and StatsModels is for complex statistics.\n",
    "- **Scikit-learn** is a Python module for machine learning built on top of SciPy. Sci-kit learn gives you a plethora of different linear fitting methods, but it gives only the fitting parameters, R^2, MSE,etc only. But if you need other diagnostic values like p-values, standard errors on each of the parameters, t-tests, etc. Then either you have to write your own code or move to statsmodels (which was the reason for me to move). Moreover the syntax of statsmodels is more aligned towards that of R, so if you are an R user and want to move to python, statsmodels will be easier to learn. The biggest disadvantage of statsmodels lies in the fact that it is still a very new package. The quantity and quality of documentation available is very poor. On the other hand, scikit-learn has one most well written documentations. Scikit-learn uses a simple modular approach for all its functions (fit->transform->predict) and hence is very easy to learn and becomes very intuitive after you know the basics. It is more ‘pythonic’ than statsmodels. (ref. https://www.quora.com/What-are-the-advantages-and-disadvantages-of-using-Statsmodels-over-Scikit-learn)\n",
    "- **TensorFlow** Scikit Learn and Tensorflow are both machine learning packages. Tensorflow is best for neural networks. Scikit Learn is good for everything else.\n",
    "- **Pandas**. Not a statistical.machine learning package. Mainly used for its datafrae data structure. Software library written for data manipulation and analysis in Python. Offers data structures and operations for manipulating numerical tables and time series.\n",
    "\n",
    "![alt text](Data\\Numpy_SciPy_SciKitLearn.PNG \"Logo Title Text 1\")\n"
   ]
  },
  {
   "cell_type": "code",
   "execution_count": null,
   "metadata": {},
   "outputs": [],
   "source": []
  }
 ],
 "metadata": {
  "kernelspec": {
   "display_name": "Python 3",
   "language": "python",
   "name": "python3"
  },
  "language_info": {
   "codemirror_mode": {
    "name": "ipython",
    "version": 3
   },
   "file_extension": ".py",
   "mimetype": "text/x-python",
   "name": "python",
   "nbconvert_exporter": "python",
   "pygments_lexer": "ipython3",
   "version": "3.7.0"
  }
 },
 "nbformat": 4,
 "nbformat_minor": 2
}
