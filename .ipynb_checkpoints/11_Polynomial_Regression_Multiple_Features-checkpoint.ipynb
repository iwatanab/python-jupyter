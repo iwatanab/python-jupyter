{
 "cells": [
  {
   "cell_type": "markdown",
   "metadata": {},
   "source": [
    "# Polynomial Regression with Multiple Features"
   ]
  },
  {
   "cell_type": "markdown",
   "metadata": {},
   "source": [
    "**Linear regression** models are made up of linear combinations of inputs and weights:\n",
    "\n",
    "$h_\\theta = \\theta_0 + \\theta_1X_1 + \\theta_2X_2 + \\theta_3X_3 ... \\theta_nX_n$\n",
    "\n",
    "LaTeX generator: https://www.codecogs.com/latex/eqneditor.php\n",
    "\n",
    "\n",
    "**Polynomial regression** models "
   ]
  },
  {
   "cell_type": "code",
   "execution_count": null,
   "metadata": {},
   "outputs": [],
   "source": []
  }
 ],
 "metadata": {
  "kernelspec": {
   "display_name": "Python 3",
   "language": "python",
   "name": "python3"
  },
  "language_info": {
   "codemirror_mode": {
    "name": "ipython",
    "version": 3
   },
   "file_extension": ".py",
   "mimetype": "text/x-python",
   "name": "python",
   "nbconvert_exporter": "python",
   "pygments_lexer": "ipython3",
   "version": "3.7.0"
  }
 },
 "nbformat": 4,
 "nbformat_minor": 2
}
