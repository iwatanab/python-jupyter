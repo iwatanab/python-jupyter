{
 "cells": [
  {
   "cell_type": "markdown",
   "metadata": {},
   "source": [
    "# Data Types"
   ]
  },
  {
   "cell_type": "markdown",
   "metadata": {},
   "source": [
    "## String (str)"
   ]
  },
  {
   "cell_type": "code",
   "execution_count": 11,
   "metadata": {},
   "outputs": [
    {
     "name": "stdout",
     "output_type": "stream",
     "text": [
      "<class 'str'>\n",
      "String with single quotation\n"
     ]
    }
   ],
   "source": [
    "x = 'String with single quotation'\n",
    "print(type(x))\n",
    "print(x)"
   ]
  },
  {
   "cell_type": "code",
   "execution_count": 12,
   "metadata": {},
   "outputs": [
    {
     "name": "stdout",
     "output_type": "stream",
     "text": [
      "string with double quotation\n"
     ]
    }
   ],
   "source": [
    "x = \"String with double quotation\"\n",
    "print(x)"
   ]
  },
  {
   "cell_type": "code",
   "execution_count": 18,
   "metadata": {},
   "outputs": [
    {
     "name": "stdout",
     "output_type": "stream",
     "text": [
      "String with triple quotation.\n",
      "Allows for typing one more than one line.\n",
      "A newline sympbol is automatically added.\n",
      "Like that.\n"
     ]
    }
   ],
   "source": [
    "#Triple quotation can be done with either double quotations \"\"\"<mystring>\"\"\" or single quotations '''<mystring>'''.\n",
    "x = '''String with triple quotation.\n",
    "Allows for typing one more than one line.\n",
    "A newline sympbol is automatically added.\\nLike that.'''\n",
    "print(x)"
   ]
  },
  {
   "cell_type": "code",
   "execution_count": 22,
   "metadata": {},
   "outputs": [
    {
     "name": "stdout",
     "output_type": "stream",
     "text": [
      "Hello all you beautiful people.\n",
      "Hello Hello all you beautiful people.\n"
     ]
    }
   ],
   "source": [
    "# concatenating strings\n",
    "concatenate = \"Hello\" + \" \" + \"all\" + \" \" + \"you\" + \" \" + \"beautiful\" + \" people.\"\n",
    "print(concatenate)\n",
    "\n",
    "# multiply strings\n",
    "concatenate = \"Hello \" * 2 +  \"all\" + \" \" + \"you\" + \" \" + \"beautiful\" + \" people.\"\n",
    "print(concatenate)"
   ]
  },
  {
   "cell_type": "code",
   "execution_count": 23,
   "metadata": {},
   "outputs": [
    {
     "name": "stdout",
     "output_type": "stream",
     "text": [
      "['__add__', '__class__', '__contains__', '__delattr__', '__dir__', '__doc__', '__eq__', '__format__', '__ge__', '__getattribute__', '__getitem__', '__getnewargs__', '__gt__', '__hash__', '__init__', '__init_subclass__', '__iter__', '__le__', '__len__', '__lt__', '__mod__', '__mul__', '__ne__', '__new__', '__reduce__', '__reduce_ex__', '__repr__', '__rmod__', '__rmul__', '__setattr__', '__sizeof__', '__str__', '__subclasshook__', 'capitalize', 'casefold', 'center', 'count', 'encode', 'endswith', 'expandtabs', 'find', 'format', 'format_map', 'index', 'isalnum', 'isalpha', 'isascii', 'isdecimal', 'isdigit', 'isidentifier', 'islower', 'isnumeric', 'isprintable', 'isspace', 'istitle', 'isupper', 'join', 'ljust', 'lower', 'lstrip', 'maketrans', 'partition', 'replace', 'rfind', 'rindex', 'rjust', 'rpartition', 'rsplit', 'rstrip', 'split', 'splitlines', 'startswith', 'strip', 'swapcase', 'title', 'translate', 'upper', 'zfill']\n"
     ]
    }
   ],
   "source": [
    "# Notice that whyn you run type(<string>) you are told that the string is a 'class', not a primitive data type.\n",
    "# Why? When you create a string in Python, the primitive data is automatically 'wrapped' in a class, which comes with methods.\n",
    "# This is why you can call methods on a string. The dir() function below prints out the attributes and methods of a string.\n",
    "print(dir(concatenate))\n"
   ]
  },
  {
   "cell_type": "code",
   "execution_count": 25,
   "metadata": {},
   "outputs": [
    {
     "name": "stdout",
     "output_type": "stream",
     "text": [
      "Hello Hello all you funky people.\n"
     ]
    }
   ],
   "source": [
    "print(concatenate.replace(\"beautiful\",\"funky\"))"
   ]
  },
  {
   "cell_type": "code",
   "execution_count": 43,
   "metadata": {},
   "outputs": [
    {
     "name": "stdout",
     "output_type": "stream",
     "text": [
      "<class 'str'>\n"
     ]
    }
   ],
   "source": [
    "# convert to string\n",
    "print(type(str(12)))"
   ]
  },
  {
   "cell_type": "markdown",
   "metadata": {},
   "source": [
    "## Numeric (int)"
   ]
  },
  {
   "cell_type": "markdown",
   "metadata": {},
   "source": [
    "ref. https://github.com/peterthorsteinson/Py_Jupyter/blob/master/03_Data_Types.ipynb"
   ]
  },
  {
   "cell_type": "code",
   "execution_count": 30,
   "metadata": {},
   "outputs": [
    {
     "name": "stdout",
     "output_type": "stream",
     "text": [
      "<class 'int'>\n"
     ]
    }
   ],
   "source": [
    "x = 1234\n",
    "print(type(x))\n"
   ]
  },
  {
   "cell_type": "code",
   "execution_count": 40,
   "metadata": {},
   "outputs": [
    {
     "name": "stdout",
     "output_type": "stream",
     "text": [
      "34\n"
     ]
    }
   ],
   "source": [
    "#convert to int\n",
    "print(int(\"34\"))"
   ]
  },
  {
   "cell_type": "code",
   "execution_count": null,
   "metadata": {},
   "outputs": [],
   "source": [
    "#arithmetic operators\n",
    "\n",
    "result = 1 + 2 * 3 / 4\n",
    "print(result)\n",
    "\n",
    "result = 1 + (2 * 3) / 4\n",
    "print(result)\n",
    "\n",
    "result = 1 + 2 * (3 / 4)\n",
    "print(result)\n",
    "\n",
    "result = (1 + 2) * 3 / 4 #different from above\n",
    "print(result)\n",
    "\n",
    "#modulo operator\n",
    "remainder = 10 % 3\n",
    "print(remainder)\n",
    "\n",
    "#power operator\n",
    "print((3 ** 1))\n",
    "print((3 ** 2))\n",
    "print((3 ** 3))\n",
    "\n",
    "#division operator\n",
    "print(10 / 3)\n",
    "print(10 // 3)\n",
    "print(10.0 / 3)\n",
    "print(10.0 // 3) # floor division float truncation"
   ]
  },
  {
   "cell_type": "markdown",
   "metadata": {},
   "source": [
    "## Boolean (bool)"
   ]
  },
  {
   "cell_type": "code",
   "execution_count": 35,
   "metadata": {},
   "outputs": [
    {
     "name": "stdout",
     "output_type": "stream",
     "text": [
      "<class 'bool'>\n"
     ]
    }
   ],
   "source": [
    "x = True\n",
    "print(type(x))"
   ]
  },
  {
   "cell_type": "code",
   "execution_count": 36,
   "metadata": {},
   "outputs": [
    {
     "name": "stdout",
     "output_type": "stream",
     "text": [
      "False\n"
     ]
    }
   ],
   "source": [
    "x = 1\n",
    "y = 4\n",
    "print(x==y)"
   ]
  },
  {
   "cell_type": "code",
   "execution_count": 38,
   "metadata": {},
   "outputs": [
    {
     "name": "stdout",
     "output_type": "stream",
     "text": [
      "This is True\n"
     ]
    }
   ],
   "source": [
    "if x==1:\n",
    "    print(\"This is True\")\n",
    "else:\n",
    "    print(\"This is False\")"
   ]
  },
  {
   "cell_type": "code",
   "execution_count": 39,
   "metadata": {},
   "outputs": [
    {
     "name": "stdout",
     "output_type": "stream",
     "text": [
      "This is True\n"
     ]
    }
   ],
   "source": [
    "# If an object exists then it will return true\n",
    "x = 7\n",
    "\n",
    "if x:\n",
    "    print(\"This is True\")\n",
    "#elif condition:\n",
    "#   action\n",
    "else:\n",
    "    print(\"This is False\")"
   ]
  },
  {
   "cell_type": "markdown",
   "metadata": {},
   "source": [
    "## List"
   ]
  },
  {
   "cell_type": "code",
   "execution_count": 44,
   "metadata": {},
   "outputs": [
    {
     "data": {
      "text/plain": [
       "['__add__',\n",
       " '__class__',\n",
       " '__contains__',\n",
       " '__delattr__',\n",
       " '__delitem__',\n",
       " '__dir__',\n",
       " '__doc__',\n",
       " '__eq__',\n",
       " '__format__',\n",
       " '__ge__',\n",
       " '__getattribute__',\n",
       " '__getitem__',\n",
       " '__gt__',\n",
       " '__hash__',\n",
       " '__iadd__',\n",
       " '__imul__',\n",
       " '__init__',\n",
       " '__init_subclass__',\n",
       " '__iter__',\n",
       " '__le__',\n",
       " '__len__',\n",
       " '__lt__',\n",
       " '__mul__',\n",
       " '__ne__',\n",
       " '__new__',\n",
       " '__reduce__',\n",
       " '__reduce_ex__',\n",
       " '__repr__',\n",
       " '__reversed__',\n",
       " '__rmul__',\n",
       " '__setattr__',\n",
       " '__setitem__',\n",
       " '__sizeof__',\n",
       " '__str__',\n",
       " '__subclasshook__',\n",
       " 'append',\n",
       " 'clear',\n",
       " 'copy',\n",
       " 'count',\n",
       " 'extend',\n",
       " 'index',\n",
       " 'insert',\n",
       " 'pop',\n",
       " 'remove',\n",
       " 'reverse',\n",
       " 'sort']"
      ]
     },
     "execution_count": 44,
     "metadata": {},
     "output_type": "execute_result"
    }
   ],
   "source": [
    "mylist = []\n",
    "dir(mylist)"
   ]
  },
  {
   "cell_type": "code",
   "execution_count": 62,
   "metadata": {},
   "outputs": [
    {
     "name": "stdout",
     "output_type": "stream",
     "text": [
      "['Hello', 1, 1244]\n"
     ]
    }
   ],
   "source": [
    "mylist.append(\"Hello\")\n",
    "mylist.append(1)\n",
    "mylist.append(1244)\n",
    "print(mylist)"
   ]
  },
  {
   "cell_type": "code",
   "execution_count": 63,
   "metadata": {},
   "outputs": [
    {
     "name": "stdout",
     "output_type": "stream",
     "text": [
      "Hello\n",
      "1\n",
      "['Hello', 1]\n"
     ]
    }
   ],
   "source": [
    "print(mylist[0])\n",
    "print(mylist[1])\n",
    "print(mylist[0:2]) # does not include first number in range (from:to]"
   ]
  },
  {
   "cell_type": "code",
   "execution_count": 64,
   "metadata": {},
   "outputs": [
    {
     "name": "stdout",
     "output_type": "stream",
     "text": [
      "Hello\n",
      "1\n",
      "1244\n"
     ]
    }
   ],
   "source": [
    "for i in mylist:\n",
    "    print(i)"
   ]
  },
  {
   "cell_type": "code",
   "execution_count": 65,
   "metadata": {},
   "outputs": [
    {
     "name": "stdout",
     "output_type": "stream",
     "text": [
      "['Hello', 1, 1244, ['my', 'name', 'is']]\n"
     ]
    }
   ],
   "source": [
    "mylist.append([\"my\",\"name\",\"is\"]) #embeds a list inside the list\n",
    "print(mylist)"
   ]
  },
  {
   "cell_type": "code",
   "execution_count": 57,
   "metadata": {},
   "outputs": [
    {
     "name": "stdout",
     "output_type": "stream",
     "text": [
      "['Hello', 1, 1244, 'four', 'five', 'six', 'four', 'five', 'six']\n"
     ]
    }
   ],
   "source": [
    "mylist.extend([\"four\",\"five\",\"six\"]) # adds list items to the first list instead of embedding the entire list in one index\n",
    "print(mylist)"
   ]
  },
  {
   "cell_type": "code",
   "execution_count": 66,
   "metadata": {},
   "outputs": [
    {
     "name": "stdout",
     "output_type": "stream",
     "text": [
      "[1, 2, 3, 4, 5, 6]\n"
     ]
    }
   ],
   "source": [
    "# Extend is the same as usign the plus operator for two list\n",
    "mynewlist = [1,2,3]\n",
    "mynewestlist = mynewlist + [4,5,6]\n",
    "print(mynewestlist)"
   ]
  },
  {
   "cell_type": "code",
   "execution_count": 72,
   "metadata": {},
   "outputs": [
    {
     "name": "stdout",
     "output_type": "stream",
     "text": [
      "[1, 4, 9, 16]\n"
     ]
    }
   ],
   "source": [
    "# list comprehensions: specify a built-in function for every item in a list. Below we square every number in a list.\n",
    "hellolist = [1,2,3,4]\n",
    "squaredlist = [i ** 2 for i in hellolist]\n",
    "print(squaredlist)"
   ]
  },
  {
   "cell_type": "markdown",
   "metadata": {},
   "source": [
    "## Tuples (symbol = () )"
   ]
  },
  {
   "cell_type": "code",
   "execution_count": null,
   "metadata": {},
   "outputs": [],
   "source": [
    "#Like a LIST except we use parentheses not square brackets. Unlke lists tuples are IMMUTABLE, YOU CANNOT ALTER ITS CONTENTS.\n",
    "mytuple = (5,\"Hello\",9)\n",
    "print(mytuple)\n",
    "print(type(mytuple))"
   ]
  },
  {
   "cell_type": "code",
   "execution_count": 80,
   "metadata": {},
   "outputs": [
    {
     "name": "stdout",
     "output_type": "stream",
     "text": [
      "5\n"
     ]
    }
   ],
   "source": [
    "print(mytuple[0])"
   ]
  },
  {
   "cell_type": "code",
   "execution_count": 81,
   "metadata": {},
   "outputs": [
    {
     "ename": "TypeError",
     "evalue": "'tuple' object does not support item assignment",
     "output_type": "error",
     "traceback": [
      "\u001b[1;31m---------------------------------------------------------------------------\u001b[0m",
      "\u001b[1;31mTypeError\u001b[0m                                 Traceback (most recent call last)",
      "\u001b[1;32m<ipython-input-81-a843f3e57891>\u001b[0m in \u001b[0;36m<module>\u001b[1;34m()\u001b[0m\n\u001b[0;32m      1\u001b[0m \u001b[1;31m# changing a tuple is not possible because it is immutable\u001b[0m\u001b[1;33m\u001b[0m\u001b[1;33m\u001b[0m\u001b[0m\n\u001b[1;32m----> 2\u001b[1;33m \u001b[0mmytuple\u001b[0m\u001b[1;33m[\u001b[0m\u001b[1;36m1\u001b[0m\u001b[1;33m]\u001b[0m \u001b[1;33m=\u001b[0m \u001b[1;34m\"Hello1\"\u001b[0m\u001b[1;33m\u001b[0m\u001b[0m\n\u001b[0m",
      "\u001b[1;31mTypeError\u001b[0m: 'tuple' object does not support item assignment"
     ]
    }
   ],
   "source": [
    "# changing a tuple is not possible because it is immutable\n",
    "mytuple[1] = \"Hello1\""
   ]
  },
  {
   "cell_type": "markdown",
   "metadata": {},
   "source": [
    "## Dictionaries (symbol = {})"
   ]
  },
  {
   "cell_type": "code",
   "execution_count": 73,
   "metadata": {},
   "outputs": [
    {
     "name": "stdout",
     "output_type": "stream",
     "text": [
      "{'money': 12, 'candy': 3, 'tissues': 75}\n",
      "3\n"
     ]
    }
   ],
   "source": [
    "# DICTIONARIES: Python's most powerful data structure\n",
    "# A \"bag\" of values, wach with it's own label\n",
    "# In a list order matters so out indexes are in numerical order\n",
    "# In a dictionary order does not matter so we index things using a \"Lookup Tag\"/Keys\n",
    "\n",
    "#initialize dictionary\n",
    "purse = dict() # same as purse = {}\n",
    "purse[\"money\"] = 12 # \"money\" is  the key, 12 is the value\n",
    "purse[\"candy\"] = 3\n",
    "purse[\"tissues\"] = 75\n",
    "print(purse)\n",
    "print(purse[\"candy\"])"
   ]
  },
  {
   "cell_type": "code",
   "execution_count": 74,
   "metadata": {},
   "outputs": [
    {
     "name": "stdout",
     "output_type": "stream",
     "text": [
      "{'money': 12, 'candy': 3, 'tissues': 75}\n"
     ]
    }
   ],
   "source": [
    "# same as\n",
    "purse = {\"money\":12, \"candy\":3, \"tissues\":75}\n",
    "print(purse)"
   ]
  },
  {
   "cell_type": "markdown",
   "metadata": {},
   "source": []
  },
  {
   "cell_type": "code",
   "execution_count": 77,
   "metadata": {},
   "outputs": [
    {
     "name": "stdout",
     "output_type": "stream",
     "text": [
      "(5, 'Hello', 9)\n",
      "<class 'tuple'>\n"
     ]
    }
   ],
   "source": [
    "mytuple = (5,\"Hello\",9)\n",
    "print(mytuple)\n",
    "print(type(mytuple))"
   ]
  },
  {
   "cell_type": "markdown",
   "metadata": {},
   "source": [
    "## Combining Tuples and Dictionaries"
   ]
  },
  {
   "cell_type": "code",
   "execution_count": 86,
   "metadata": {},
   "outputs": [
    {
     "name": "stdout",
     "output_type": "stream",
     "text": [
      "dict_items([('money', 12), ('candy', 3), ('tissues', 75)])\n"
     ]
    },
    {
     "data": {
      "text/plain": [
       "dict_items"
      ]
     },
     "execution_count": 86,
     "metadata": {},
     "output_type": "execute_result"
    }
   ],
   "source": [
    "# If we call the items() method for a dictionary class, which will retrurn a LIST of TUPLES (wrapped in a dict_items class whose\n",
    "# items can only be accessed in a loop)\n",
    "print(purse.items())"
   ]
  },
  {
   "cell_type": "code",
   "execution_count": 88,
   "metadata": {},
   "outputs": [
    {
     "name": "stdout",
     "output_type": "stream",
     "text": [
      "money 12\n",
      "NEXT LOOP\n",
      "candy 3\n",
      "NEXT LOOP\n",
      "tissues 75\n",
      "NEXT LOOP\n"
     ]
    }
   ],
   "source": [
    "for a,b in purse.items():\n",
    "    print(a,b)\n",
    "    print(\"NEXT LOOP\")"
   ]
  },
  {
   "cell_type": "markdown",
   "metadata": {},
   "source": [
    "## Sets"
   ]
  },
  {
   "cell_type": "code",
   "execution_count": 89,
   "metadata": {},
   "outputs": [],
   "source": [
    "# The data type \"set\", which is a collection type, has been part of Python since version 2.4. \n",
    "# A set contains an unordered collection of unique and immutable objects.\n",
    "# The set data type is, as the name implies, a Python implementation of the sets as they are known from mathematics. \n",
    "# This explains, why sets unlike lists or tuples can't have multiple occurrences of the same element.\n",
    "programmers = set([\"John\", \"Mary\", \"Sandra\", \"David\"])"
   ]
  },
  {
   "cell_type": "code",
   "execution_count": 90,
   "metadata": {},
   "outputs": [
    {
     "data": {
      "text/plain": [
       "set"
      ]
     },
     "execution_count": 90,
     "metadata": {},
     "output_type": "execute_result"
    }
   ],
   "source": [
    "type(programmers)"
   ]
  },
  {
   "cell_type": "code",
   "execution_count": 92,
   "metadata": {},
   "outputs": [
    {
     "name": "stdout",
     "output_type": "stream",
     "text": [
      "{1, 2, 3, 4}\n"
     ]
    }
   ],
   "source": [
    "badset = set([1,1,2,3,4])\n",
    "print(badset) # note the duplicated 1 is now a single value"
   ]
  },
  {
   "cell_type": "markdown",
   "metadata": {},
   "source": [
    "## Arrays"
   ]
  },
  {
   "cell_type": "code",
   "execution_count": 97,
   "metadata": {},
   "outputs": [],
   "source": [
    "# This explains, why sets unlike lists or tuples can't have multiple occurrences of the same element.\n",
    "# This contrasts with Lists, which can hold data of multiple types\n",
    "# If you create arrays using array module.\n",
    "# Modules , like array, NumPy, and Pandas use the following command to get a list of installed modules > help(\"modules\")\n",
    "import array as arr"
   ]
  },
  {
   "cell_type": "code",
   "execution_count": 94,
   "metadata": {},
   "outputs": [
    {
     "data": {
      "text/plain": [
       "array('d', [1.0, 2.0, 3.0])"
      ]
     },
     "execution_count": 94,
     "metadata": {},
     "output_type": "execute_result"
    }
   ],
   "source": [
    "arr.array('d',[1,2,3]) #The type code 'd' is for decimal values\n",
    "# Go to this link for a reference for a list of type codes: https://www.programiz.com/python-programming/array"
   ]
  }
 ],
 "metadata": {
  "kernelspec": {
   "display_name": "Python 3",
   "language": "python",
   "name": "python3"
  },
  "language_info": {
   "codemirror_mode": {
    "name": "ipython",
    "version": 3
   },
   "file_extension": ".py",
   "mimetype": "text/x-python",
   "name": "python",
   "nbconvert_exporter": "python",
   "pygments_lexer": "ipython3",
   "version": "3.7.0"
  }
 },
 "nbformat": 4,
 "nbformat_minor": 2
}
